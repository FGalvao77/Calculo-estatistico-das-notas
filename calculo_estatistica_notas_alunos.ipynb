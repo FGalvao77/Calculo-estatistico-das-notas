{
 "cells": [
  {
   "cell_type": "markdown",
   "metadata": {},
   "source": [
    "### **Resumo estatístico - notas | alunos**\n",
    "---"
   ]
  },
  {
   "cell_type": "markdown",
   "metadata": {},
   "source": [
    "Sabe-se que as notas dos alunos de uma Escola estão no intervalo de 0 a 10 e a Escola tem como objetivo realizar uma análise estatística sobre essas notas.\n",
    "\n",
    "Faça um Programa utilizando a linguagem Python que solicite ao usuário de cada aluno uma única nota (são 20 alunos) e as armazene em uma lista.\n",
    "Calcule e mostre:\n",
    "\n",
    "- a. A média aritmética das notas;\n",
    "- b. A variância das notas;\n",
    "- c. O desvio padrão."
   ]
  },
  {
   "cell_type": "code",
   "execution_count": 2,
   "metadata": {},
   "outputs": [
    {
     "name": "stdout",
     "output_type": "stream",
     "text": [
      "ESTATÍSTICAS [notas | alunos]\n",
      "===============================\n",
      "Notas: [8.0, 9.5, 5.0]\n",
      "Média: 7.5\n",
      "Variância: 3.5\n",
      "Desvio-padrão: 1.87\n"
     ]
    }
   ],
   "source": [
    "app_form = dict()\n",
    "size = len(app_form)\n",
    "\n",
    "for i in range(1, 21):\n",
    "    if len(app_form) > 20:\n",
    "        break\n",
    "\n",
    "    app_form[i + size] = [input('nome: '), input('nota: ')]\n",
    "    command = input('continuar?[\"S/N\"]: ').upper()\n",
    "\n",
    "    if command in 'N':\n",
    "        break\n",
    "\n",
    "import numpy as np \n",
    "\n",
    "notas = [float(i[1]) for i in app_form.values()]\n",
    "media = round(np.mean(notas), 2)\n",
    "desv_pad = round(np.std(notas), 2)\n",
    "var = round(np.var(notas), 2)\n",
    "\n",
    "print(\n",
    "    'ESTATÍSTICAS [notas | alunos]\\n'\n",
    "    '===============================',\n",
    "    f'Notas: {notas}',\n",
    "    f'Média: {media}',\n",
    "    f'Variância: {var}',\n",
    "    f'Desvio-padrão: {desv_pad}',\n",
    "    sep='\\n'\n",
    ")"
   ]
  },
  {
   "cell_type": "code",
   "execution_count": null,
   "metadata": {},
   "outputs": [],
   "source": []
  },
  {
   "cell_type": "code",
   "execution_count": null,
   "metadata": {},
   "outputs": [],
   "source": []
  },
  {
   "cell_type": "code",
   "execution_count": null,
   "metadata": {},
   "outputs": [],
   "source": []
  }
 ],
 "metadata": {
  "interpreter": {
   "hash": "6bafd6474ce4b62c03605d0b33fc5128bd027b02227412e991dce6264322d045"
  },
  "kernelspec": {
   "display_name": "Python 3.9.10 64-bit (windows store)",
   "language": "python",
   "name": "python3"
  },
  "language_info": {
   "codemirror_mode": {
    "name": "ipython",
    "version": 3
   },
   "file_extension": ".py",
   "mimetype": "text/x-python",
   "name": "python",
   "nbconvert_exporter": "python",
   "pygments_lexer": "ipython3",
   "version": "3.9.11"
  },
  "orig_nbformat": 4
 },
 "nbformat": 4,
 "nbformat_minor": 2
}
